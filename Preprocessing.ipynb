{
 "cells": [
  {
   "cell_type": "code",
   "execution_count": null,
   "metadata": {},
   "outputs": [],
   "source": [
    "import pandas as pd\n",
    "import numpy as np\n",
    "from sklearn.metrics import mean_squared_error\n",
    "from tqdm import tqdm"
   ]
  },
  {
   "cell_type": "code",
   "execution_count": null,
   "metadata": {},
   "outputs": [],
   "source": [
    "Movie_Genres = np.load( './Data/MovieGenres.npy' )\n",
    "\n",
    "num_genres = Movie_Genres.shape[ 1 ]\n",
    "num_movies = Movie_Genres.shape[ 0 ]"
   ]
  },
  {
   "cell_type": "code",
   "execution_count": null,
   "metadata": {},
   "outputs": [],
   "source": [
    "data = pd.read_csv( './Data/train.csv' )\n",
    "data = np.asarray( data )\n",
    "\n",
    "num_users = int( max( data[ : , 0 ] )) + 1\n",
    "print( num_users )"
   ]
  },
  {
   "cell_type": "code",
   "execution_count": null,
   "metadata": {},
   "outputs": [],
   "source": [
    "data = pd.read_csv( './Data/genome_scores.csv' )\n",
    "data.head()"
   ]
  },
  {
   "cell_type": "code",
   "execution_count": null,
   "metadata": {},
   "outputs": [],
   "source": [
    "print( num_movies )\n",
    "print( num_genres )\n",
    "print( num_users )\n",
    "print( Movie_Genres.shape )\n",
    "\n",
    "num_genome = 1128"
   ]
  },
  {
   "cell_type": "code",
   "execution_count": null,
   "metadata": {},
   "outputs": [],
   "source": [
    "Movie_Genome = np.zeros(( num_movies, num_genome ))\n",
    "\n",
    "data = np.asarray( data )\n",
    "\n",
    "for i in tqdm( range( len( data ))):\n",
    "    Movie_Genome[ int( data[ i, 0 ] ) ][ int( data[ i, 1 ] ) - 1 ] = data[ i, 2 ]"
   ]
  },
  {
   "cell_type": "code",
   "execution_count": null,
   "metadata": {},
   "outputs": [],
   "source": [
    "print( Movie_Genres )\n",
    "print( Movie_Genome )"
   ]
  },
  {
   "cell_type": "code",
   "execution_count": null,
   "metadata": {},
   "outputs": [],
   "source": [
    "Input_Vectors = np.column_stack(( Movie_Genome, Movie_Genres ))\n",
    "print( Input_Vectors.shape )"
   ]
  },
  {
   "cell_type": "code",
   "execution_count": null,
   "metadata": {},
   "outputs": [],
   "source": [
    "np.save( './Data/Input Vectors without Bias', Input_Vectors )"
   ]
  },
  {
   "cell_type": "code",
   "execution_count": null,
   "metadata": {},
   "outputs": [],
   "source": [
    "print( Input_Vectors )"
   ]
  },
  {
   "cell_type": "code",
   "execution_count": null,
   "metadata": {},
   "outputs": [],
   "source": [
    "np.save( './Data/MoviGenome', Movie_Genome )"
   ]
  },
  {
   "cell_type": "code",
   "execution_count": null,
   "metadata": {},
   "outputs": [],
   "source": []
  }
 ],
 "metadata": {
  "kernelspec": {
   "display_name": "Python 3",
   "language": "python",
   "name": "python3"
  },
  "language_info": {
   "codemirror_mode": {
    "name": "ipython",
    "version": 3
   },
   "file_extension": ".py",
   "mimetype": "text/x-python",
   "name": "python",
   "nbconvert_exporter": "python",
   "pygments_lexer": "ipython3",
   "version": "3.7.0"
  }
 },
 "nbformat": 4,
 "nbformat_minor": 2
}
