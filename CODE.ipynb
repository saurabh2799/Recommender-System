{
 "cells": [
  {
   "cell_type": "code",
   "execution_count": null,
   "metadata": {},
   "outputs": [],
   "source": [
    "import pandas as pd\n",
    "import numpy as np\n",
    "from tqdm import tqdm\n",
    "from sklearn.metrics import mean_squared_error as mse\n",
    "from sklearn.cluster import KMeans\n",
    "import matplotlib.pyplot as plt\n",
    "from sklearn.preprocessing import StandardScaler\n",
    "from sklearn.decomposition import PCA\n",
    "from sklearn import linear_model"
   ]
  },
  {
   "cell_type": "code",
   "execution_count": null,
   "metadata": {},
   "outputs": [],
   "source": [
    "Movie_Genome = np.load('./MovieGenome.npy') #Here, MovieGenome.npy is the matrix of genome scores of all attributes.\n",
    "num_users = 9970\n",
    "num_movies = 9998\n",
    "pca_length = 512\n",
    "gen_len = 19\n",
    "clusters = 10"
   ]
  },
  {
   "cell_type": "code",
   "execution_count": null,
   "metadata": {},
   "outputs": [],
   "source": [
    "kmeans = KMeans( n_clusters = clusters, random_state = 0 ) # Clustering the movies into 10 clusters.\n",
    "kmeans.fit( Movie_Genome )\n",
    "labels = kmeans.labels_"
   ]
  },
  {
   "cell_type": "code",
   "execution_count": null,
   "metadata": {},
   "outputs": [],
   "source": [
    "Master = StandardScaler().fit_transform( Movie_Genome )  # Applying PCA and reducing feature dimension to 512.\n",
    "pca = PCA( n_components = pca_length )\n",
    "Master = pca.fit_transform( Master )\n",
    "print( Master.shape )"
   ]
  },
  {
   "cell_type": "code",
   "execution_count": null,
   "metadata": {},
   "outputs": [],
   "source": [
    "train = np.asarray( pd.read_csv('./train.csv'))\n",
    "\n",
    "set_movies = set( train[ : , 1 ].astype( int ))"
   ]
  },
  {
   "cell_type": "code",
   "execution_count": null,
   "metadata": {},
   "outputs": [],
   "source": [
    "X_train = np.ones(( 1, pca_length ))   # Numpy Array of movie genome for movies in training dataset\n",
    "\n",
    "for j in tqdm(set_movies):\n",
    "    X_train = np.vstack(( X_train, Master[ j ]))\n",
    "\n",
    "X_train = X_train[ 1 : , : ]"
   ]
  },
  {
   "cell_type": "code",
   "execution_count": null,
   "metadata": {},
   "outputs": [],
   "source": [
    "Y_train = np.zeros(( len( X_train ), 1 ))   # Average Rating for training \n",
    "counter = 0\n",
    "\n",
    "for j in tqdm( set_movies ):\n",
    "    temp = train[ np.where( train[ : , 1 ] == j )]\n",
    "    Y_train[ counter ] = np.mean( temp[ : , 2 ] )\n",
    "    counter += 1"
   ]
  },
  {
   "cell_type": "code",
   "execution_count": null,
   "metadata": {},
   "outputs": [],
   "source": [
    "reg = linear_model.LinearRegression()\n",
    "reg.fit( X_train, Y_train )"
   ]
  },
  {
   "cell_type": "code",
   "execution_count": null,
   "metadata": {},
   "outputs": [],
   "source": [
    "C = reg.predict( Master )\n",
    "B = np.zeros((num_users,clusters))"
   ]
  },
  {
   "cell_type": "code",
   "execution_count": null,
   "metadata": {},
   "outputs": [],
   "source": [
    "temp = np.sum((Movie_Genome**2),axis = 1)\n",
    "print(temp.shape)\n",
    "temp_movie_0 = []\n",
    "\n",
    "for j in range(len(Movie_Genome)):\n",
    "    \n",
    "    if temp[j] == 0:\n",
    "        temp_movie_0.append(j)\n",
    "\n",
    "mean = np.mean(train[:,2])\n",
    "for j in tqdm(temp_movie_0):\n",
    "    temp_movie = train[np.where(train[:,1] == j)]\n",
    "    if len(temp_movie):\n",
    "        C[j] = np.mean(temp_movie[:,2])\n",
    "    else:\n",
    "        C[j] = mean"
   ]
  },
  {
   "cell_type": "code",
   "execution_count": null,
   "metadata": {},
   "outputs": [],
   "source": [
    "ita = 0.01  # ita = 0.01 till training error reduces significantly , then we used ita = 0.005 and later ita = 0.001\n",
    "batch_size = 1\n",
    "num_batches = ( len( train ) // batch_size )"
   ]
  },
  {
   "cell_type": "code",
   "execution_count": null,
   "metadata": {},
   "outputs": [],
   "source": [
    "for epoch in  range( 10 ):\n",
    "    for i in tqdm( range( num_batches )):\n",
    "        # Splitting data into batches\n",
    "        start = i * batch_size\n",
    "        if ( i == num_batches - 1 ):\n",
    "            batch = train[ start : ]\n",
    "        else:\n",
    "            batch = train[ start : start + batch_size ]\n",
    "        \n",
    "        R = batch[ : , -1 ]\n",
    "        b = np.zeros_like( R )\n",
    "        \n",
    "        for j in range( len( batch )):\n",
    "            c = batch[ j, 1 ].astype( int )\n",
    "            b[ j ] = B[ int( batch[ j, 0 ] ), labels[ c ] ] + C[ int( batch[ j, 1 ] ) ]\n",
    "        \n",
    "        for j in range( len( batch )):\n",
    "            c = batch[ j, 1 ].astype( int )\n",
    "            B[ int( batch[ j, 0 ] ), labels[ c ] ] += ita * ( R[ j ] - b[ j ] )\n",
    "    \n",
    "    true = train[ : , -1 ]\n",
    "    scores = np.zeros_like( true )\n",
    "    \n",
    "    for i in range( len( train )):\n",
    "        c = train[ i, 1 ].astype( int )\n",
    "        scores[ i ] = B[ int( train[ i, 0 ]), labels[ c ] ] + C[ int( train[ i, 1 ]) ]\n",
    "    print( mse( true, scores ))"
   ]
  },
  {
   "cell_type": "code",
   "execution_count": null,
   "metadata": {},
   "outputs": [],
   "source": [
    "np.save(\"Users_2404_2_2\",B)"
   ]
  },
  {
   "cell_type": "code",
   "execution_count": null,
   "metadata": {},
   "outputs": [],
   "source": [
    "asum = np.zeros( num_users, dtype = int )\n",
    "\n",
    "for i in tqdm( range( num_users )):\n",
    "    asum[ i ] = np.sum( B[ i, : ] == 0 )\n",
    "    if ( asum[ i ] != clusters ) and ( asum[ i ] > 0 ):\n",
    "        bsum = np.sum( B[ i, : ] )\n",
    "        bmean = bsum / ( clusters - asum[ i ] )\n",
    "        for j in range( clusters ):\n",
    "            if B[ i, j ] == 0:\n",
    "                B[ i, j ] = bmean\n",
    "\n",
    "sums = np.sum( B, axis = 0 )\n",
    "means = np.zeros_like( sums )\n",
    "\n",
    "for j in range( len( means )):\n",
    "    means[ j ] = sums[ j ] / np.sum( B[ : , j ] != 0 )\n",
    "\n",
    "for i in range( num_users ):\n",
    "    if asum[ i ] == clusters:\n",
    "        B[ i, : ] = means[ : ]"
   ]
  },
  {
   "cell_type": "code",
   "execution_count": null,
   "metadata": {},
   "outputs": [],
   "source": [
    "test = np.asarray(pd.read_csv('./test.csv'))\n",
    "predict_test = np.zeros( len( test ))"
   ]
  },
  {
   "cell_type": "code",
   "execution_count": null,
   "metadata": {},
   "outputs": [],
   "source": [
    "for j in tqdm( range( len( test ))):\n",
    "    c = test[ j, 1 ].astype( int )\n",
    "    predict_test[ j ] = C[ c ] + B[ int( test[ j, 0 ]), labels[ c ] ]"
   ]
  },
  {
   "cell_type": "code",
   "execution_count": null,
   "metadata": {},
   "outputs": [],
   "source": [
    "print( min( predict_test ), max( predict_test ))\n",
    "print( np.sum( predict_test > 10 ))"
   ]
  },
  {
   "cell_type": "code",
   "execution_count": null,
   "metadata": {},
   "outputs": [],
   "source": [
    "predict_test[ np.where( predict_test > 5.0 )] = 5.0\n",
    "predict_test[ np.where( predict_test < 0.5 )] = 0.5\n",
    "\n",
    "predict_test = np.around( predict_test, decimals = 1 )"
   ]
  },
  {
   "cell_type": "code",
   "execution_count": null,
   "metadata": {},
   "outputs": [],
   "source": [
    "id1 = np.arange( len( test ), dtype = int )\n",
    "\n",
    "mysubmission = pd.DataFrame( { 'Id': id1, 'Prediction' : predict_test }, index = id1 )\n",
    "mysubmission.columns = [ 'Id', 'Prediction' ]\n",
    "mysubmission.head()"
   ]
  },
  {
   "cell_type": "code",
   "execution_count": null,
   "metadata": {},
   "outputs": [],
   "source": [
    "mysubmission.describe()"
   ]
  },
  {
   "cell_type": "code",
   "execution_count": null,
   "metadata": {},
   "outputs": [],
   "source": [
    "mysubmission.to_csv(f'Submission.csv', index = False )"
   ]
  },
  {
   "cell_type": "code",
   "execution_count": null,
   "metadata": {},
   "outputs": [],
   "source": []
  }
 ],
 "metadata": {
  "kernelspec": {
   "display_name": "Python 3",
   "language": "python",
   "name": "python3"
  },
  "language_info": {
   "codemirror_mode": {
    "name": "ipython",
    "version": 3
   },
   "file_extension": ".py",
   "mimetype": "text/x-python",
   "name": "python",
   "nbconvert_exporter": "python",
   "pygments_lexer": "ipython3",
   "version": "3.7.0"
  }
 },
 "nbformat": 4,
 "nbformat_minor": 2
}
